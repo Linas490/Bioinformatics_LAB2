{
  "nbformat": 4,
  "nbformat_minor": 0,
  "metadata": {
    "colab": {
      "provenance": [],
      "collapsed_sections": [
        "4ybpn1Fh2OyG"
      ]
    },
    "kernelspec": {
      "name": "python3",
      "display_name": "Python 3"
    },
    "language_info": {
      "name": "python"
    }
  },
  "cells": [
    {
      "cell_type": "markdown",
      "source": [
        "# Pasiruošimas"
      ],
      "metadata": {
        "id": "4ybpn1Fh2OyG"
      }
    },
    {
      "cell_type": "code",
      "execution_count": null,
      "metadata": {
        "id": "-uFBqUeXSw7p"
      },
      "outputs": [],
      "source": [
        "!git clone https://github.com/niu-lab/gclust"
      ]
    },
    {
      "cell_type": "code",
      "source": [
        "%cd gclust\n",
        "!make"
      ],
      "metadata": {
        "id": "gnsl49sxTBiC"
      },
      "execution_count": null,
      "outputs": []
    },
    {
      "cell_type": "code",
      "source": [
        "# Step 1: Download seqkit\n",
        "!wget https://github.com/shenwei356/seqkit/releases/download/v2.4.0/seqkit_linux_amd64.tar.gz\n",
        "\n",
        "# Step 2: Extract the binary from the tar.gz file\n",
        "!tar -xzvf seqkit_linux_amd64.tar.gz\n",
        "\n",
        "# Step 3: Make seqkit executable\n",
        "!chmod +x seqkit"
      ],
      "metadata": {
        "id": "gIvWB_b2lwkS"
      },
      "execution_count": null,
      "outputs": []
    },
    {
      "cell_type": "code",
      "source": [
        "!sudo dpkg --configure -a\n",
        "\n",
        "# Step 1: Install FastTree\n",
        "!apt-get install -y fasttree"
      ],
      "metadata": {
        "id": "wTiwJuBml0b2"
      },
      "execution_count": null,
      "outputs": []
    },
    {
      "cell_type": "code",
      "source": [
        "!sudo apt update\n",
        "!sudo apt install mafft"
      ],
      "metadata": {
        "id": "zpVZPn_is3DK"
      },
      "execution_count": null,
      "outputs": []
    },
    {
      "cell_type": "code",
      "source": [
        "!pip install ete3\n",
        "from ete3 import Tree"
      ],
      "metadata": {
        "colab": {
          "base_uri": "https://localhost:8080/"
        },
        "id": "i96A4f3Z9CUQ",
        "outputId": "e27c709d-8b45-4714-9975-bc4a60fccbe0"
      },
      "execution_count": 6,
      "outputs": [
        {
          "output_type": "stream",
          "name": "stdout",
          "text": [
            "Collecting ete3\n",
            "  Downloading ete3-3.1.3.tar.gz (4.8 MB)\n",
            "\u001b[?25l     \u001b[90m━━━━━━━━━━━━━━━━━━━━━━━━━━━━━━━━━━━━━━━━\u001b[0m \u001b[32m0.0/4.8 MB\u001b[0m \u001b[31m?\u001b[0m eta \u001b[36m-:--:--\u001b[0m\r\u001b[2K     \u001b[91m━\u001b[0m\u001b[91m╸\u001b[0m\u001b[90m━━━━━━━━━━━━━━━━━━━━━━━━━━━━━━━━━━━━━━\u001b[0m \u001b[32m0.2/4.8 MB\u001b[0m \u001b[31m6.5 MB/s\u001b[0m eta \u001b[36m0:00:01\u001b[0m\r\u001b[2K     \u001b[91m━━━━━━━━━━━━━━━\u001b[0m\u001b[90m╺\u001b[0m\u001b[90m━━━━━━━━━━━━━━━━━━━━━━━━\u001b[0m \u001b[32m1.8/4.8 MB\u001b[0m \u001b[31m26.4 MB/s\u001b[0m eta \u001b[36m0:00:01\u001b[0m\r\u001b[2K     \u001b[91m━━━━━━━━━━━━━━━━━━━━━━━━━━━━━━━━━━━━━━━\u001b[0m\u001b[91m╸\u001b[0m \u001b[32m4.8/4.8 MB\u001b[0m \u001b[31m50.0 MB/s\u001b[0m eta \u001b[36m0:00:01\u001b[0m\r\u001b[2K     \u001b[90m━━━━━━━━━━━━━━━━━━━━━━━━━━━━━━━━━━━━━━━━\u001b[0m \u001b[32m4.8/4.8 MB\u001b[0m \u001b[31m38.5 MB/s\u001b[0m eta \u001b[36m0:00:00\u001b[0m\n",
            "\u001b[?25h  Preparing metadata (setup.py) ... \u001b[?25l\u001b[?25hdone\n",
            "Building wheels for collected packages: ete3\n",
            "  Building wheel for ete3 (setup.py) ... \u001b[?25l\u001b[?25hdone\n",
            "  Created wheel for ete3: filename=ete3-3.1.3-py3-none-any.whl size=2273787 sha256=da2f9a60d8f9fcaf5eb44032b123709626dba69889d9a011d67a54e77deccd44\n",
            "  Stored in directory: /root/.cache/pip/wheels/a0/72/00/1982bd848e52b03079dbf800900120bc1c20e92e9a1216e525\n",
            "Successfully built ete3\n",
            "Installing collected packages: ete3\n",
            "Successfully installed ete3-3.1.3\n"
          ]
        }
      ]
    },
    {
      "cell_type": "code",
      "source": [
        "import os\n",
        "\n",
        "# Define the path for the outputs folder\n",
        "outputs_path = \"/content/gclust/outputs\"\n",
        "\n",
        "# Create the folder if it doesn't exist\n",
        "os.makedirs(outputs_path, exist_ok=True)\n",
        "\n",
        "print(f\"Folder created (if it didn't exist): {outputs_path}\")"
      ],
      "metadata": {
        "colab": {
          "base_uri": "https://localhost:8080/"
        },
        "id": "d_YPfchd9_bC",
        "outputId": "25055ebc-eaa4-4b51-f279-0ea5d8097dfd"
      },
      "execution_count": 7,
      "outputs": [
        {
          "output_type": "stream",
          "name": "stdout",
          "text": [
            "Folder created (if it didn't exist): /content/gclust/outputs\n"
          ]
        }
      ]
    },
    {
      "cell_type": "markdown",
      "source": [
        "# Apdorojimas"
      ],
      "metadata": {
        "id": "JQFtHRIm2SKH"
      }
    },
    {
      "cell_type": "code",
      "source": [
        "#Sort\n",
        "!perl script/sortgenome.pl --genomes-file /content/gclust/outputs/all_sequences.fasta --sortedgenomes-file /content/gclust/outputs/sorted_all.fasta\n",
        "\n",
        "#Cluster\n",
        "!./gclust -minlen 20 -both -nuc -threads 8 -ext 1 -sparse 2 -memiden 97 /content/gclust/outputs/sorted_all.fasta > /content/gclust/outputs/clustering.out\n",
        "\n",
        "#Get ids of the representatives\n",
        "!grep \".*\\*\" /content/gclust/outputs/clustering.out | cut -d'>' -f2 | awk '{print $1}' | sed 's/\\.\\.\\.$//' > /content/gclust/outputs/representative_ids.txt\n",
        "\n",
        "#Use seqkit to extract sequences\n",
        "!./seqkit grep -i -f /content/gclust/outputs/representative_ids.txt /content/gclust/outputs/all_sequences.fasta -o /content/gclust/outputs/result.fasta"
      ],
      "metadata": {
        "id": "747gbxZf8SX_",
        "colab": {
          "base_uri": "https://localhost:8080/"
        },
        "outputId": "5e309be1-271c-480b-e5d5-c19f07367f72"
      },
      "execution_count": 8,
      "outputs": [
        {
          "output_type": "stream",
          "name": "stdout",
          "text": [
            "total genomes:\t383\n",
            "sorting....\n",
            "genomes sorting by size finished\n",
            "writing output ...\n",
            "\n",
            "Gclust version 1.0\n",
            "\n",
            "=====================\n",
            "\n",
            "Genomes: 383\n",
            "Maximum Length: 30448\n",
            "Minimum Length: 27112\n",
            "Average Length: 29677\n",
            "\n",
            "=====================\n",
            "\n",
            "\n",
            "Load genomes: 383\n",
            "\n",
            "chunk: 383\n",
            "\n",
            "====\n",
            "S 11366874\n",
            "startpos 383\n",
            "descr 383\n",
            "====\n",
            "\n",
            "Creating suffix array ......\n",
            "\n",
            "suffix sorting ....\n",
            "suffix sorting done ....\n",
            "N=11366876\n",
            "logN \t23\n",
            "N/K=5683438\n",
            "M.size()=3855468\n",
            "NKm1= 5683437\n",
            "\n",
            "Finished creating suffix array ......\n",
            "\n",
            "...... 0 done\n",
            "...... 100 done\n",
            "...... 200 done\n",
            "...... 300 done\n",
            "\n",
            "===========================\n",
            "Output clustering information ......\n",
            "\n",
            "Total clusters: 114\n",
            "The finish.\n",
            "\n",
            "time:294 s\n",
            "[INFO]\u001b[0m 114 patterns loaded from file\n"
          ]
        }
      ]
    },
    {
      "cell_type": "code",
      "source": [
        "#Translate\n",
        "!./seqkit translate /content/gclust/outputs/aligned.fasta -o /content/gclust/outputs/translated_proteins.fasta\n",
        "\n",
        "#Filter shorter than 800\n",
        "!./seqkit seq -g -m 800 /content/gclust/outputs/translated_proteins.fasta -o /content/gclust/outputs/filtered_proteins.fasta\n",
        "\n",
        "#mafft alignment\n",
        "!mafft --maxiterate 1000 --localpair /content/gclust/outputs/filtered_proteins.fasta > /content/gclust/outputs/output_aligned.fasta\n",
        "\n",
        "# File paths\n",
        "input_file = \"/content/gclust/outputs/output_aligned.fasta\"\n",
        "output_file = \"/content/gclust/outputs/output_cleaned_aligned.fasta\"\n",
        "\n",
        "# Open the input file, clean it, and write to the output file\n",
        "with open(input_file, \"r\") as infile, open(output_file, \"w\") as outfile:\n",
        "    for line in infile:\n",
        "        # Remove spaces and ':' characters\n",
        "        cleaned_line = line.replace(\" \", \"_\").replace(\":\", \"_\")\n",
        "        outfile.write(cleaned_line)"
      ],
      "metadata": {
        "colab": {
          "base_uri": "https://localhost:8080/"
        },
        "id": "rgLI5e8Y8dU4",
        "outputId": "bc2e3e2a-9245-4322-9987-8f1f208caf5e"
      },
      "execution_count": 9,
      "outputs": [
        {
          "output_type": "stream",
          "name": "stdout",
          "text": [
            "outputhat23=16\n",
            "treein = 0\n",
            "compacttree = 0\n",
            "stacksize: 8192 kb\n",
            "rescale = 1\n",
            "All-to-all alignment.\n",
            "tbfast-pair (aa) Version 7.490\n",
            "alg=L, model=BLOSUM62, 2.00, -0.10, +0.10, noshift, amax=0.0\n",
            "0 thread(s)\n",
            "\n",
            "outputhat23=16\n",
            "Loading 'hat3.seed' ... \n",
            "done.\n",
            "Writing hat3 for iterative refinement\n",
            "rescale = 1\n",
            "Gap Penalty = -1.53, +0.00, +0.00\n",
            "tbutree = 1, compacttree = 0\n",
            "Constructing a UPGMA tree ... \n",
            "  140 / 150\n",
            "done.\n",
            "\n",
            "Progressive alignment ... \n",
            "STEP   144 /149 \n",
            "Reallocating..done. *alloclen = 4907\n",
            "STEP   149 /149 \n",
            "done.\n",
            "tbfast (aa) Version 7.490\n",
            "alg=A, model=BLOSUM62, 1.53, -0.00, -0.00, noshift, amax=0.0\n",
            "1 thread(s)\n",
            "\n",
            "minimumweight = 0.000010\n",
            "autosubalignment = 0.000000\n",
            "nthread = 0\n",
            "randomseed = 0\n",
            "blosum 62 / kimura 200\n",
            "poffset = 0\n",
            "niter = 16\n",
            "sueff_global = 0.100000\n",
            "nadd = 16\n",
            "Loading 'hat3' ... done.\n",
            "rescale = 1\n",
            "\n",
            "  140 / 150\n",
            "Segment   1/  1    1-2048\n",
            "STEP 003-034-1  identical.   \n",
            "Converged.\n",
            "\n",
            "done\n",
            "dvtditr (aa) Version 7.490\n",
            "alg=A, model=BLOSUM62, 1.53, -0.00, -0.00, noshift, amax=0.0\n",
            "0 thread(s)\n",
            "\n",
            "\n",
            "Strategy:\n",
            " L-INS-i (Probably most accurate, very slow)\n",
            " Iterative refinement method (<16) with LOCAL pairwise alignment information\n",
            "\n",
            "If unsure which option to use, try 'mafft --auto input > output'.\n",
            "For more information, see 'mafft --help', 'mafft --man' and the mafft page.\n",
            "\n",
            "The default gap scoring scheme has been changed in version 7.110 (2013 Oct).\n",
            "It tends to insert more gaps into gap-rich regions than previous versions.\n",
            "To disable this change, add the --leavegappyregion option.\n",
            "\n"
          ]
        }
      ]
    },
    {
      "cell_type": "code",
      "source": [
        "#Generate Tree\n",
        "!FastTree -gamma /content/gclust/outputs/output_cleaned_aligned.fasta > /content/gclust/outputs/phylogenetic_tree.txt"
      ],
      "metadata": {
        "id": "xokjMS3a9e0n",
        "colab": {
          "base_uri": "https://localhost:8080/"
        },
        "outputId": "08ccbb59-d5d6-4e2d-eafc-ca65ad572d6f"
      },
      "execution_count": 12,
      "outputs": [
        {
          "output_type": "stream",
          "name": "stdout",
          "text": [
            "FastTree Version 2.1.11 Double precision (No SSE3)\n",
            "Alignment: /content/gclust/outputs/output_cleaned_aligned.fasta\n",
            "Amino acid distances: BLOSUM45 Joins: balanced Support: SH-like 1000\n",
            "Search: Normal +NNI +SPR (2 rounds range 10) +ML-NNI opt-each=1\n",
            "TopHits: 1.00*sqrtN close=default refresh=0.80\n",
            "ML Model: Jones-Taylor-Thorton, CAT approximation with 20 rate categories\n",
            "Ignored unknown character X (seen 4 times)\n",
            "Initial topology in 0.51 seconds\n",
            "Refining topology: 29 rounds ME-NNIs, 2 rounds ME-SPRs, 14 rounds ML-NNIs\n",
            "Total branch-length 3.610 after 4.96 sec\n",
            "ML-NNI round 1: LogLk = -47228.830 NNIs 25 max delta 15.44 Time 18.28\n",
            "Switched to using 20 rate categories (CAT approximation)\n",
            "Rate categories were divided by 0.877 so that average rate = 1.0\n",
            "CAT-based log-likelihoods may not be comparable across runs\n",
            "ML-NNI round 2: LogLk = -43156.423 NNIs 9 max delta 7.02 Time 30.89\n",
            "ML-NNI round 3: LogLk = -43149.948 NNIs 1 max delta 0.70 Time 33.71\n",
            "ML-NNI round 4: LogLk = -43149.936 NNIs 0 max delta 0.00 Time 35.09\n",
            "Turning off heuristics for final round of ML NNIs (converged)\n",
            "ML-NNI round 5: LogLk = -43144.865 NNIs 4 max delta 0.35 Time 45.11 (final)\n",
            "Optimize all lengths: LogLk = -43144.808 Time 47.82\n",
            "Gamma(20) LogLk = -44462.588 alpha = 0.578 rescaling lengths by 1.139\n",
            "Total time: 64.61 seconds Unique: 145/150 Bad splits: 0/142\n"
          ]
        }
      ]
    },
    {
      "cell_type": "code",
      "source": [
        "tree = Tree(\"/content/gclust/outputs/phylogenetic_tree.txt\")\n",
        "\n",
        "# Print all leaf names\n",
        "print(\"Leaf names in the tree:\")\n",
        "print(tree.get_leaf_names())\n",
        "\n",
        "# Load the tree from the Newick file\n",
        "tree = Tree(\"/content/gclust/outputs/phylogenetic_tree.txt\")\n",
        "\n",
        "# Specify the outgroup (camel virus identifier)\n",
        "camel_virus_label = \"lcl|Query_4392169_4901-8458_MN514967.1_Dromedary_camel_coronavirus_HKU23_isolate_DcCoV-HKU23/camel/Nigeria/NV1385/2016\"\n",
        "\n",
        "# Set the camel virus as the root of the tree\n",
        "tree.set_outgroup(camel_virus_label)\n",
        "\n",
        "# Save the rooted tree back to a file\n",
        "tree.write(outfile=\"/content/gclust/outputs/rooted_phylogenetic_tree.txt\")"
      ],
      "metadata": {
        "colab": {
          "base_uri": "https://localhost:8080/"
        },
        "id": "xN1C0EtRkseX",
        "outputId": "625d5246-69fc-4cd6-e55d-5e7f6c0baae7"
      },
      "execution_count": 15,
      "outputs": [
        {
          "output_type": "stream",
          "name": "stdout",
          "text": [
            "Leaf names in the tree:\n",
            "['lcl|Query_4392097_2719-8484_KY417149.1_Bat_SARS-like_coronavirus_isolate_Rs4255', 'lcl|Query_4392066_2719-8484_KY417152.1_Bat_SARS-like_coronavirus_isolate_Rs9401', 'lcl|Query_4392062_2719-8484_KY417147.1_Bat_SARS-like_coronavirus_isolate_Rs4237', 'lcl|Query_4392099_2809-8574_OQ503500.1_Severe_acute_respiratory_syndrome-related_coronavirus_isolate_4105', 'lcl|Query_4392074_2719-8484_KY417150.1_Bat_SARS-like_coronavirus_isolate_Rs4874', 'lcl|Query_4392076_2719-8484_KY417143.1_Bat_SARS-like_coronavirus_isolate_Rs4081', 'lcl|Query_4392064_2719-8484_KY417148.1_Bat_SARS-like_coronavirus_isolate_Rs4247', 'lcl|Query_4392070_2719-8484_KY417151.1_Bat_SARS-like_coronavirus_isolate_Rs7327', 'lcl|Query_4392061_2719-8484_KY417145.1_Bat_SARS-like_coronavirus_isolate_Rf4092', 'lcl|Query_4392049_2511-8273_OK017858.1_Sarbecovirus_sp._isolate_YN2020H', 'lcl|Query_4392116_2696-8461_OQ503501.1_Severe_acute_respiratory_syndrome-related_coronavirus_isolate_4230', 'lcl|Query_4392131_2719-8484_KY417144.1_Bat_SARS-like_coronavirus_isolate_Rs4084', 'lcl|Query_4392065_2720-8485_MK211375.1_Coronavirus_BtRs-BetaCoV/YN2018A', 'lcl|Query_4392136_2697-8462_OR233325.1_Horseshoe_bat_sarbecovirus_isolate_Ra22DB163', 'lcl|Query_4392093_2675-8440_OK287354.1_Sarbecovirus_sp._isolate_BetaCoV_Yunnan_Rs_KMC6_2020', 'lcl|Query_4392089_2701-8466_OQ503502.1_Severe_acute_respiratory_syndrome-related_coronavirus_isolate_6301', 'lcl|Query_4392069_2697-8462_OR233304.1_Horseshoe_bat_sarbecovirus_isolate_Ra22DB191', 'lcl|Query_4392083_2708-8473_KY770858.1_Sarbecovirus_sp._isolate_Anlong-103', 'lcl|Query_4392053_2484-8249_KJ473816.1_BtRs-BetaCoV/YN2013', 'lcl|Query_4392118_2719-8484_KC881005.1_Bat_SARS-like_coronavirus_RsSHC014', 'lcl|Query_4392052_2723-8488_OQ503505.1_Severe_acute_respiratory_syndrome-related_coronavirus_isolate_162181', 'lcl|Query_4392073_2719-8484_MK211378.1_Coronavirus_BtRs-BetaCoV/YN2018D', 'lcl|Query_4392056_2717-8482_MK211377.1_Coronavirus_BtRs-BetaCoV/YN2018C', 'lcl|Query_4392158_2700-5894_FJ588686.1_Bat_SARS_CoV_Rs672/2006', 'lcl|Query_4392043_2720-8485_MZ081379.1_Betacoronavirus_sp._RsYN03_strain_bat/Yunnan/RsYN03/2019', 'lcl|Query_4392060_2720-8485_MK062183.1_SARS_coronavirus_Urbani_isolate_icSARS-C7', 'lcl|Query_4392059_2719-8484_MT308984.1_Mutant_SARS_coronavirus_Urbani_clone_SARS-Urbani-MA_SHC014-spike', 'lcl|Query_4392126_2718-8483_KP886808.1_Bat_SARS-like_coronavirus_YNLF_31C', 'lcl|Query_4392082_2615-8383_JX993988.1_Bat_coronavirus_Cp/Yunnan2011', 'lcl|Query_4392092_2720-8485_MZ081382.1_Betacoronavirus_sp._RsYN09_strain_bat/Yunnan/RsYN09/2020', 'lcl|Query_4392123_2726-8491_KF569996.1_Rhinolophus_affinis_coronavirus_isolate_LYRa11', 'lcl|Query_4392135_2723-8488_OQ503506.1_Severe_acute_respiratory_syndrome-related_coronavirus_isolate_B228', 'lcl|Query_4392143_2720-8485_MZ081377.1_Betacoronavirus_sp._RmYN07_strain_bat/Yunnan/RmYN07/2020', 'lcl|Query_4392108_2719-8487_OR261266.1_Rhinolophus_thomasi_bat_coronavirus_isolate_RtVN21-197', 'lcl|Query_4392100_2697-8456_OR233314.1_Horseshoe_bat_sarbecovirus_isolate_Rt22SL92', 'lcl|Query_4392098_2459-8227_OR261262.1_Rhinolophus_thomasi_bat_coronavirus_isolate_RtVN21-29', 'lcl|Query_4392121_2697-8462_OR261263.1_Rhinolophus_thomasi_bat_coronavirus_isolate_RtVN21-192', 'lcl|Query_4392122_2678-8431_OR233295.1_Horseshoe_bat_sarbecovirus_isolate_Rt17DN420', 'lcl|Query_4392067_2697-8432_OR233319.1_Horseshoe_bat_sarbecovirus_isolate_Rt22QT46', 'lcl|Query_4392051_2697-8432_OR233298.1_Horseshoe_bat_sarbecovirus_isolate_Rt22QB78', 'lcl|Query_4392054_2697-8432_OR233299.1_Horseshoe_bat_sarbecovirus_isolate_Rt22QB8', 'lcl|Query_4392145_2715-8447_MK211374.1_Coronavirus_BtRl-BetaCoV/SC2018', 'lcl|Query_4392124_2460-8207_OK017846.1_Sarbecovirus_sp._isolate_SC2018B', 'lcl|Query_4392150_2670-8420_KY770860.1_Sarbecovirus_sp._isolate_Jiyuan-84', 'lcl|Query_4392154_2718-8468_DQ648856.1_Bat_coronavirus_', 'lcl|Query_4392155_2715-8465_DQ412042.1_Bat_SARS_coronavirus_Rf1', 'lcl|Query_4392146_2485-8235_KJ473813.1_BtRf-BetaCoV/SX2013', 'lcl|Query_4392148_2581-8331_OK017799.1_Sarbecovirus_sp._isolate_LN2020G', 'lcl|Query_4392153_2701-8451_ON378802.1_MAG__Severe_acute_respiratory_syndrome-related_coronavirus_isolate_BatCoV_B20-50', 'lcl|Query_4392129_2645-8386_JX993987.1_Bat_coronavirus_Rp/Shaanxi2011', 'lcl|Query_4392109_2659-8415_KJ473814.1_BtRs-BetaCoV/HuB2013', 'lcl|Query_4392132_2695-8451_MZ328294.1_Jingmen_Rhinolophus_sinicus_betacoronavirus_1', 'lcl|Query_4392119_2584-8334_OK017860.1_Sarbecovirus_sp._isolate_JX2021D', 'lcl|Query_4392084_2581-8328_OK017832.1_Sarbecovirus_sp._isolate_HN2021C', 'lcl|Query_4392057_2581-8328_OK017836.1_Sarbecovirus_sp._isolate_JX2021AC', 'lcl|Query_4392048_2581-8337_OK017802.1_Sarbecovirus_sp._isolate_HB2020E', 'lcl|Query_4392044_2581-8340_OK017801.1_Sarbecovirus_sp._isolate_HB2020D', 'lcl|Query_4392047_2858-8617_OQ503498.1_Severe_acute_respiratory_syndrome-related_coronavirus_isolate_BDA190366', 'lcl|Query_4392102_2581-8337_OK017807.1_Sarbecovirus_sp._isolate_AH2021A', 'lcl|Query_4392080_2581-8340_OK017809.1_Sarbecovirus_sp._isolate_FJ2021D', 'lcl|Query_4392128_2581-8337_OK017811.1_Sarbecovirus_sp._isolate_FJ2021M', 'lcl|Query_4392151_2719-8478_PQ577578.1_Betacoronavirus_sp._isolate_HD13589', 'lcl|Query_4392144_2489-8248_PQ577590.1_Betacoronavirus_sp._isolate_201924', 'lcl|Query_4392147_2716-8475_GQ153542.1_Bat_SARS_coronavirus_HKU3-7', 'lcl|Query_4392156_2716-8463_GQ153547.1_Bat_SARS_coronavirus_HKU3-12', 'lcl|Query_4392157_2719-8466_MT782115.1_Mutant_Bat_SARS_coronavirus_HKU3_isolate_icHKU3-SRBD-MA', 'lcl|Query_4392088_2581-8337_OK017837.1_Sarbecovirus_sp._isolate_JX2021C', 'lcl|Query_4392138_2581-8337_OK017808.1_Sarbecovirus_sp._isolate_FJ2021A', 'lcl|Query_4392111_2581-8337_OK017839.1_Sarbecovirus_sp._isolate_JX2021J', 'lcl|Query_4392086_2581-8337_OK017840.1_Sarbecovirus_sp._isolate_JX2021K', 'lcl|Query_4392085_2581-8337_OK017838.1_Sarbecovirus_sp._isolate_JX2021G', 'lcl|Query_4392140_2581-8337_OK017844.1_Sarbecovirus_sp._isolate_JX2021O', 'lcl|Query_4392133_2581-8337_OK017845.1_Sarbecovirus_sp._isolate_JX2021P', 'lcl|Query_4392110_2479-8238_OK017841.1_Sarbecovirus_sp._isolate_JX2021L', 'lcl|Query_4392072_2479-8238_OK017842.1_Sarbecovirus_sp._isolate_JX2021M', 'lcl|Query_4392095_2578-8337_OK017843.1_Sarbecovirus_sp._isolate_JX2021N', 'lcl|Query_4392103_2949-8705_MW681002.1_Severe_acute_respiratory_syndrome-related_coronavirus_isolate_Rs56', 'lcl|Query_4392107_2735-8491_PQ577588.1_Betacoronavirus_sp._isolate_B64', 'lcl|Query_4392125_2712-8471_PQ577583.1_Betacoronavirus_sp._isolate_CH007', 'lcl|Query_4392114_2701-8460_PQ577581.1_Betacoronavirus_sp._isolate_CH063', 'lcl|Query_4392152_2581-8340_OK017823.1_Sarbecovirus_sp._isolate_GD2017Q', 'lcl|Query_4392130_2581-8340_OK017824.1_Sarbecovirus_sp._isolate_GD2017W', 'lcl|Query_4392112_2581-8340_OK017828.1_Sarbecovirus_sp._isolate_GD2019E', 'lcl|Query_4392106_2581-8340_OK017827.1_Sarbecovirus_sp._isolate_GD2019D', 'lcl|Query_4392142_2581-8343_OK017825.1_Sarbecovirus_sp._isolate_GD2019A', 'lcl|Query_4392139_2718-8450_OQ503495.1_Severe_acute_respiratory_syndrome-related_coronavirus_isolate_141341', 'lcl|Query_4392149_2581-8340_OK017812.1_Sarbecovirus_sp._isolate_GD2016B', 'lcl|Query_4392113_2581-8340_OK017820.1_Sarbecovirus_sp._isolate_GD2017N', 'lcl|Query_4392134_2703-8462_OQ297703.1_MAG__Severe_acute_respiratory_syndrome-related_coronavirus_isolate_GD/L18.18/2020', 'lcl|Query_4392091_2768-8527_OQ297701.1_MAG__Severe_acute_respiratory_syndrome-related_coronavirus_isolate_GD/L19.18/2020', 'lcl|Query_4392127_2581-8340_OK017813.1_Sarbecovirus_sp._isolate_GD2017G', 'lcl|Query_4392137_2715-8498_DQ412043.1_Bat_SARS_coronavirus_Rm1', 'lcl|Query_4392141_2995-8733_OQ297705.1_MAG__Severe_acute_respiratory_syndrome-related_coronavirus_isolate_CQ/L80.18/2021', 'lcl|Query_4392077_2581-8328_OK017833.1_Sarbecovirus_sp._isolate_HN2021D', 'lcl|Query_4392081_2581-8328_OK017859.1_Sarbecovirus_sp._isolate_GX2019A', 'lcl|Query_4392068_2704-8460_OQ503497.1_Severe_acute_respiratory_syndrome-related_coronavirus_isolate_151491', 'lcl|Query_4392117_2581-8337_OK017835.1_Sarbecovirus_sp._isolate_HN2021F', 'lcl|Query_4392120_2581-8337_OK017834.1_Sarbecovirus_sp._isolate_HN2021E', 'lcl|Query_4392169_4901-8458_MN514967.1_Dromedary_camel_coronavirus_HKU23_isolate_DcCoV-HKU23/camel/Nigeria/NV1385/2016', 'lcl|Query_4392040_2704-8493_OL674078.1_Severe_acute_respiratory_syndrome-related_coronavirus_isolate_Rs7921', 'lcl|Query_4392041_2718-8507_MZ081376.1_Betacoronavirus_sp._RmYN05_strain_bat/Yunnan/RmYN05/2020', 'lcl|Query_4392033_2721-8531_MT040335.1_Pangolin_coronavirus_isolate_PCoV_GX-P5L', 'lcl|Query_4392028_2689-8502_OQ297708.1_MAG__Pangolin_coronavirus_isolate_GD/P79-9/2019', 'lcl|Query_4392032_2706-8525_OK287355.1_Sarbecovirus_sp._isolate_BetaCoV_Yunnan_Rp_JCC9_2020', 'lcl|Query_4392037_2571-8369_OK017805.1_Sarbecovirus_sp._isolate_HN2021G', 'lcl|Query_4392036_2577-8399_OK017803.1_Sarbecovirus_sp._isolate_HN2021A', 'lcl|Query_4392035_2719-8541_MG772933.1_Bat_SARS-like_coronavirus_isolate_bat-SL-CoVZC45', 'lcl|Query_4392038_2719-8475_MG772934.1_Bat_SARS-like_coronavirus_isolate_bat-SL-CoVZXC21', 'lcl|Query_4392027_2720-8554_HG994853.1_Severe_acute_respiratory_syndrome-related_coronavirus_isolate_H_SC_02_genome_assembly', 'lcl|Query_4392039_2720-8554_HG994860.1_Severe_acute_respiratory_syndrome-related_coronavirus_isolate_H_SC_11_genome_assembly', 'lcl|Query_4392170_2720-8554_NC_045512.2_Severe_acute_respiratory_syndrome_coronavirus_2_isolate_Wuhan-Hu-1', 'lcl|Query_4392026_2720-8554_HG994856.1_Severe_acute_respiratory_syndrome-related_coronavirus_isolate_H_SC_07_genome_assembly', 'lcl|Query_4392022_2720-8554_NC_045512.2_Severe_acute_respiratory_syndrome_coronavirus_2_isolate_Wuhan-Hu-1', 'lcl|Query_4392031_2577-8414_OK017806.1_Sarbecovirus_sp._isolate_YN2021', 'lcl|Query_4392024_2693-8524_OR233302.1_Horseshoe_bat_sarbecovirus_isolate_Rp22DB159', 'lcl|Query_4392025_2720-8551_MZ081381.1_Betacoronavirus_sp._RpYN06_strain_bat/Yunnan/RpYN06/2020', 'lcl|Query_4392030_2682-8513_MW703458.1_Sarbecovirus_sp._isolate_PrC31', 'lcl|Query_4392023_2720-8551_MN996532.2_Bat_coronavirus_RaTG13', 'lcl|Query_4392034_2762-8554_MW251308.1_Bat_coronavirus_RacCS203', 'lcl|Query_4392029_2698-8511_OR233322.1_Horseshoe_bat_sarbecovirus_isolate_Ra22QT106', 'lcl|Query_4392055_2707-8505_LC556375.1_Severe_acute_respiratory_syndrome-related_coronavirus_Rc-o319_RNA', 'lcl|Query_4392058_2712-8510_LC663793.1_Sarbecovirus_sp._Rc-kw8_RNA', 'lcl|Query_4392162_2662-8385_MZ190138.1_Bat_SARS-like_coronavirus_Khosta-2_strain_BtCoV/Khosta-2/Rh/Russia/2020', 'lcl|Query_4392163_2704-8424_OP776340.1_Sarbecovirus_sp._isolate_RhGB06', 'lcl|Query_4392165_2715-8435_OQ401248.1_MAG__Sarbecovirus_sp._RhGB07_isolate_2-30B', 'lcl|Query_4392166_2703-8423_OP776338.1_Sarbecovirus_sp._isolate_RhGB02', 'lcl|Query_4392167_2734-8454_MW719567.1_Sarbecovirus_RhGB01', 'lcl|Query_4392164_2702-8422_OP776339.1_Sarbecovirus_sp._isolate_RhGB05', 'lcl|Query_4392159_2645-8344_MZ190137.1_Bat_SARS-like_coronavirus_Khosta-1_strain_BtCoV/Khosta-1/Rh/Russia/2020', 'lcl|Query_4392171_2645-8380_NC_014470.1_Bat_coronavirus_BM48-31/BGR/2008', 'lcl|Query_4392160_2645-8380_NC_014470.1_Bat_coronavirus_BM48-31/BGR/2008', 'lcl|Query_4392168_2716-8409_MT726045.1_Sarbecovirus_sp._isolate_PREDICT/PRD-0038/AABSMF', 'lcl|Query_4392161_2714-8410_KY352407.1_Severe_acute_respiratory_syndrome-related_coronavirus_strain_BtKY72', 'lcl|Query_4392071_2581-8343_OK017829.1_Sarbecovirus_sp._isolate_GZ2021C', 'lcl|Query_4392090_2581-8343_OK017831.1_Sarbecovirus_sp._isolate_GZ2021I', 'lcl|Query_4392105_2526-8288_OK017830.1_Sarbecovirus_sp._isolate_GZ2021H', 'lcl|Query_4392096_2719-8478_DQ071615.1_Bat_SARS_coronavirus_Rp3', 'lcl|Query_4392078_2479-8238_KJ473815.1_BtRs-BetaCoV/GX2013', 'lcl|Query_4392101_2697-8462_OR233294.1_Horseshoe_bat_sarbecovirus_isolate_Rt22DB31', 'lcl|Query_4392104_2697-8462_OR233303.1_Horseshoe_bat_sarbecovirus_isolate_Rt22SL9', 'lcl|Query_4392042_2697-8447_OR233296.1_Horseshoe_bat_sarbecovirus_isolate_Rt22LC378', 'lcl|Query_4392079_2720-8470_OR261264.1_Rhinolophus_thomasi_bat_coronavirus_isolate_RtVN21-193', 'lcl|Query_4392087_2558-8320_OK017793.1_Sarbecovirus_sp._isolate_YN2020A', 'lcl|Query_4392075_2697-8447_OR233293.1_Horseshoe_bat_sarbecovirus_isolate_Rt22CB395', 'lcl|Query_4392045_2697-8462_OR233297.1_Horseshoe_bat_sarbecovirus_isolate_Rt21LC92', 'lcl|Query_4392046_2511-8279_OK017853.1_Sarbecovirus_sp._isolate_YN2020C', 'lcl|Query_4392094_2581-8334_OK017792.1_Sarbecovirus_sp._isolate_GD2017F', 'lcl|Query_4392115_2718-8483_OR233291.1_Horseshoe_bat_sarbecovirus_isolate_Ra21CB8', 'lcl|Query_4392050_2719-8484_KY417146.1_Bat_SARS-like_coronavirus_isolate_Rs4231', 'lcl|Query_4392063_2719-8484_KY417142.1_Bat_SARS-like_coronavirus_isolate_As6526']\n"
          ]
        }
      ]
    },
    {
      "cell_type": "markdown",
      "source": [
        "# Testavimui"
      ],
      "metadata": {
        "id": "IUZugw7j9X8T"
      }
    },
    {
      "cell_type": "code",
      "source": [
        "# Generate the Phylogenetic Tree\n",
        "!FastTree -gamma /content/gclust/outputs/output_cleaned_aligned.fasta > /content/gclust/outputs/phylogenetic_tree.txt"
      ],
      "metadata": {
        "id": "3rH_MX_S86hI"
      },
      "execution_count": null,
      "outputs": []
    },
    {
      "cell_type": "code",
      "source": [
        "#Sort\n",
        "!perl script/sortgenome.pl --genomes-file /content/gclust/outputs/all_sequences.fasta --sortedgenomes-file /content/gclust/outputs/sorted_all.fasta"
      ],
      "metadata": {
        "id": "AJIodrEHTcrB",
        "colab": {
          "base_uri": "https://localhost:8080/"
        },
        "outputId": "660561a7-6b34-4cef-bbb2-873cffd3ce2d"
      },
      "execution_count": null,
      "outputs": [
        {
          "output_type": "stream",
          "name": "stdout",
          "text": [
            "total genomes:\t454\n",
            "sorting....\n",
            "genomes sorting by size finished\n",
            "writing output ...\n"
          ]
        }
      ]
    },
    {
      "cell_type": "code",
      "source": [
        "#Cluster\n",
        "!./gclust -minlen 20 -both -nuc -threads 8 -ext 1 -sparse 2 -memiden 97 /content/gclust/outputs/sorted_all.fasta > /content/gclust/outputs/clustering.out"
      ],
      "metadata": {
        "colab": {
          "base_uri": "https://localhost:8080/"
        },
        "id": "jh2Rmqq-UG0Y",
        "outputId": "3d72acdc-b101-4127-a6ca-6df95b790c6f"
      },
      "execution_count": null,
      "outputs": [
        {
          "output_type": "stream",
          "name": "stdout",
          "text": [
            "\n",
            "Gclust version 1.0\n",
            "\n",
            "=====================\n",
            "\n",
            "Genomes: 454\n",
            "Maximum Length: 30799\n",
            "Minimum Length: 27141\n",
            "Average Length: 29660\n",
            "\n",
            "=====================\n",
            "\n",
            "\n",
            "Load genomes: 454\n",
            "\n",
            "chunk: 454\n",
            "\n",
            "====\n",
            "S 13466347\n",
            "startpos 454\n",
            "descr 454\n",
            "====\n",
            "\n",
            "Creating suffix array ......\n",
            "\n",
            "suffix sorting ....\n",
            "suffix sorting done ....\n",
            "N=13466350\n",
            "logN \t23\n",
            "N/K=6733175\n",
            "M.size()=4273012\n",
            "NKm1= 6733174\n",
            "\n",
            "Finished creating suffix array ......\n",
            "\n",
            "...... 0 done\n",
            "...... 100 done\n",
            "...... 200 done\n",
            "...... 300 done\n",
            "...... 400 done\n",
            "\n",
            "===========================\n",
            "Output clustering information ......\n",
            "\n",
            "Total clusters: 148\n",
            "The finish.\n",
            "\n",
            "time:354 s\n"
          ]
        }
      ]
    },
    {
      "cell_type": "code",
      "source": [
        "#get ids of the representatives\n",
        "!grep \".*\\*\" /content/gclust/outputs/clustering.out | cut -d'>' -f2 | awk '{print $1}' | sed 's/\\.\\.\\.$//' > /content/gclust/outputs/representative_ids.txt"
      ],
      "metadata": {
        "id": "QsFSS7lGkcUx"
      },
      "execution_count": null,
      "outputs": []
    },
    {
      "cell_type": "code",
      "source": [
        "#Use seqkit to extract sequences\n",
        "!./seqkit grep -i -f /content/gclust/outputs/representative_ids.txt /content/gclust/outputs/all_sequences.fasta -o /content/gclust/outputs/result.fasta"
      ],
      "metadata": {
        "colab": {
          "base_uri": "https://localhost:8080/"
        },
        "id": "uD1jarrnCfmT",
        "outputId": "b991a8c8-c33c-45a8-ae6c-e71452406c9b"
      },
      "execution_count": null,
      "outputs": [
        {
          "output_type": "stream",
          "name": "stdout",
          "text": [
            "[INFO]\u001b[0m 148 patterns loaded from file\n"
          ]
        }
      ]
    },
    {
      "cell_type": "code",
      "source": [
        "#Translate\n",
        "!./seqkit translate /content/gclust/outputs/aligned.fasta -o /content/gclust/outputs/translated_proteins.fasta"
      ],
      "metadata": {
        "id": "cQ23dpW8HLdg"
      },
      "execution_count": null,
      "outputs": []
    },
    {
      "cell_type": "code",
      "source": [
        "#Filter shorter than 800\n",
        "!./seqkit seq -g -m 800 /content/gclust/outputs/translated_proteins.fasta -o /content/gclust/outputs/filtered_proteins.fasta"
      ],
      "metadata": {
        "id": "O2C987eJHQ-I"
      },
      "execution_count": null,
      "outputs": []
    },
    {
      "cell_type": "code",
      "source": [
        "!mafft --maxiterate 1000 --localpair /content/gclust/outputs/filtered_proteins.fasta > /content/gclust/outputs/output_aligned.fasta"
      ],
      "metadata": {
        "colab": {
          "base_uri": "https://localhost:8080/"
        },
        "id": "kZjPimIfVIIu",
        "outputId": "c6d40646-1a84-4ec0-a162-fd7436fbf3a6"
      },
      "execution_count": null,
      "outputs": [
        {
          "output_type": "stream",
          "name": "stdout",
          "text": [
            "outputhat23=16\n",
            "treein = 0\n",
            "compacttree = 0\n",
            "stacksize: -1 kb\n",
            "rescale = 1\n",
            "All-to-all alignment.\n",
            "tbfast-pair (aa) Version 7.490\n",
            "alg=L, model=BLOSUM62, 2.00, -0.10, +0.10, noshift, amax=0.0\n",
            "0 thread(s)\n",
            "\n",
            "outputhat23=16\n",
            "Loading 'hat3.seed' ... \n",
            "done.\n",
            "Writing hat3 for iterative refinement\n",
            "rescale = 1\n",
            "Gap Penalty = -1.53, +0.00, +0.00\n",
            "tbutree = 1, compacttree = 0\n",
            "Constructing a UPGMA tree ... \n",
            "  140 / 150\n",
            "done.\n",
            "\n",
            "Progressive alignment ... \n",
            "STEP   144 /149 \n",
            "Reallocating..done. *alloclen = 4907\n",
            "STEP   149 /149 \n",
            "done.\n",
            "tbfast (aa) Version 7.490\n",
            "alg=A, model=BLOSUM62, 1.53, -0.00, -0.00, noshift, amax=0.0\n",
            "1 thread(s)\n",
            "\n",
            "minimumweight = 0.000010\n",
            "autosubalignment = 0.000000\n",
            "nthread = 0\n",
            "randomseed = 0\n",
            "blosum 62 / kimura 200\n",
            "poffset = 0\n",
            "niter = 16\n",
            "sueff_global = 0.100000\n",
            "nadd = 16\n",
            "Loading 'hat3' ... done.\n",
            "rescale = 1\n",
            "\n",
            "  140 / 150\n",
            "Segment   1/  1    1-2048\n",
            "STEP 003-034-1  identical.   \n",
            "Converged.\n",
            "\n",
            "done\n",
            "dvtditr (aa) Version 7.490\n",
            "alg=A, model=BLOSUM62, 1.53, -0.00, -0.00, noshift, amax=0.0\n",
            "0 thread(s)\n",
            "\n",
            "\n",
            "Strategy:\n",
            " L-INS-i (Probably most accurate, very slow)\n",
            " Iterative refinement method (<16) with LOCAL pairwise alignment information\n",
            "\n",
            "If unsure which option to use, try 'mafft --auto input > output'.\n",
            "For more information, see 'mafft --help', 'mafft --man' and the mafft page.\n",
            "\n",
            "The default gap scoring scheme has been changed in version 7.110 (2013 Oct).\n",
            "It tends to insert more gaps into gap-rich regions than previous versions.\n",
            "To disable this change, add the --leavegappyregion option.\n",
            "\n"
          ]
        }
      ]
    },
    {
      "cell_type": "code",
      "source": [
        "# File paths\n",
        "input_file = \"/content/gclust/outputs/output_aligned.fasta\"\n",
        "output_file = \"/content/gclust/outputs/output_cleaned_aligned.fasta\"\n",
        "\n",
        "# Open the input file, clean it, and write to the output file\n",
        "with open(input_file, \"r\") as infile, open(output_file, \"w\") as outfile:\n",
        "    for line in infile:\n",
        "        # Remove spaces and ':' characters\n",
        "        cleaned_line = line.replace(\" \", \"_\").replace(\":\", \"_\")\n",
        "        outfile.write(cleaned_line)"
      ],
      "metadata": {
        "id": "lzKUWu3eA8bv"
      },
      "execution_count": null,
      "outputs": []
    },
    {
      "cell_type": "code",
      "source": [
        "# Step 2: Generate the Phylogenetic Tree\n",
        "# Assuming you already have an aligned file (e.g., `cleaned_aligned_proteins.fasta`)\n",
        "!FastTree -gamma /content/gclust/outputs/output_cleaned_aligned.fasta > /content/gclust/outputs/phylogenetic_tree.txt"
      ],
      "metadata": {
        "id": "nKAi_c47YznY"
      },
      "execution_count": null,
      "outputs": []
    },
    {
      "cell_type": "code",
      "source": [
        "!pip install ete3"
      ],
      "metadata": {
        "colab": {
          "base_uri": "https://localhost:8080/"
        },
        "id": "mc1HDTialulf",
        "outputId": "74196de5-c9d8-46dd-ce75-630488c93029"
      },
      "execution_count": null,
      "outputs": [
        {
          "output_type": "stream",
          "name": "stdout",
          "text": [
            "Collecting ete3\n",
            "  Downloading ete3-3.1.3.tar.gz (4.8 MB)\n",
            "\u001b[?25l     \u001b[90m━━━━━━━━━━━━━━━━━━━━━━━━━━━━━━━━━━━━━━━━\u001b[0m \u001b[32m0.0/4.8 MB\u001b[0m \u001b[31m?\u001b[0m eta \u001b[36m-:--:--\u001b[0m\r\u001b[2K     \u001b[91m━━━\u001b[0m\u001b[91m╸\u001b[0m\u001b[90m━━━━━━━━━━━━━━━━━━━━━━━━━━━━━━━━━━━━\u001b[0m \u001b[32m0.5/4.8 MB\u001b[0m \u001b[31m13.9 MB/s\u001b[0m eta \u001b[36m0:00:01\u001b[0m\r\u001b[2K     \u001b[91m━━━━━━━━━━━━━━━━━━━━━━━━━━━━━━━━━━━━\u001b[0m\u001b[90m╺\u001b[0m\u001b[90m━━━\u001b[0m \u001b[32m4.3/4.8 MB\u001b[0m \u001b[31m61.6 MB/s\u001b[0m eta \u001b[36m0:00:01\u001b[0m\r\u001b[2K     \u001b[90m━━━━━━━━━━━━━━━━━━━━━━━━━━━━━━━━━━━━━━━━\u001b[0m \u001b[32m4.8/4.8 MB\u001b[0m \u001b[31m45.2 MB/s\u001b[0m eta \u001b[36m0:00:00\u001b[0m\n",
            "\u001b[?25h  Preparing metadata (setup.py) ... \u001b[?25l\u001b[?25hdone\n",
            "Building wheels for collected packages: ete3\n",
            "  Building wheel for ete3 (setup.py) ... \u001b[?25l\u001b[?25hdone\n",
            "  Created wheel for ete3: filename=ete3-3.1.3-py3-none-any.whl size=2273787 sha256=57fa5f21bf18e49a0957b62feae3558c27c3c858f793eb4bb617018c11a50e94\n",
            "  Stored in directory: /root/.cache/pip/wheels/a0/72/00/1982bd848e52b03079dbf800900120bc1c20e92e9a1216e525\n",
            "Successfully built ete3\n",
            "Installing collected packages: ete3\n",
            "Successfully installed ete3-3.1.3\n"
          ]
        }
      ]
    },
    {
      "cell_type": "code",
      "source": [
        "from ete3 import Tree"
      ],
      "metadata": {
        "id": "uM4T0bjBmikm"
      },
      "execution_count": null,
      "outputs": []
    },
    {
      "cell_type": "code",
      "source": [
        "from ete3 import Tree\n",
        "\n",
        "# Load the tree file\n",
        "tree = Tree(\"/content/gclust/outputs/phylogenetic_tree.txt\")\n",
        "\n",
        "# Print all leaf names\n",
        "print(\"Leaf names in the tree:\")\n",
        "print(tree.get_leaf_names())\n"
      ],
      "metadata": {
        "colab": {
          "base_uri": "https://localhost:8080/"
        },
        "id": "QHzxICRU306_",
        "outputId": "6f021624-cce5-42e8-e4dc-3beaf16b721e"
      },
      "execution_count": null,
      "outputs": [
        {
          "output_type": "stream",
          "name": "stdout",
          "text": [
            "Leaf names in the tree:\n",
            "['lcl|Query_4358112_2719-8484_KY417149.1_Bat_SARS-like_coronavirus_isolate_Rs4255', 'lcl|Query_4358082_2719-8484_KY417152.1_Bat_SARS-like_coronavirus_isolate_Rs9401', 'lcl|Query_4358077_2719-8484_KY417147.1_Bat_SARS-like_coronavirus_isolate_Rs4237', 'lcl|Query_4358114_2809-8574_OQ503500.1_Severe_acute_respiratory_syndrome-related_coronavirus_isolate_4105', 'lcl|Query_4358089_2719-8484_KY417150.1_Bat_SARS-like_coronavirus_isolate_Rs4874', 'lcl|Query_4358091_2719-8484_KY417143.1_Bat_SARS-like_coronavirus_isolate_Rs4081', 'lcl|Query_4358079_2719-8484_KY417148.1_Bat_SARS-like_coronavirus_isolate_Rs4247', 'lcl|Query_4358085_2719-8484_KY417151.1_Bat_SARS-like_coronavirus_isolate_Rs7327', 'lcl|Query_4358076_2719-8484_KY417145.1_Bat_SARS-like_coronavirus_isolate_Rf4092', 'lcl|Query_4358064_2511-8273_OK017858.1_Sarbecovirus_sp._isolate_YN2020H', 'lcl|Query_4358131_2696-8461_OQ503501.1_Severe_acute_respiratory_syndrome-related_coronavirus_isolate_4230', 'lcl|Query_4358146_2719-8484_KY417144.1_Bat_SARS-like_coronavirus_isolate_Rs4084', 'lcl|Query_4358080_2720-8485_MK211375.1_Coronavirus_BtRs-BetaCoV/YN2018A', 'lcl|Query_4358151_2697-8462_OR233325.1_Horseshoe_bat_sarbecovirus_isolate_Ra22DB163', 'lcl|Query_4358108_2675-8440_OK287354.1_Sarbecovirus_sp._isolate_BetaCoV_Yunnan_Rs_KMC6_2020', 'lcl|Query_4358105_2701-8466_OQ503502.1_Severe_acute_respiratory_syndrome-related_coronavirus_isolate_6301', 'lcl|Query_4358084_2697-8462_OR233304.1_Horseshoe_bat_sarbecovirus_isolate_Ra22DB191', 'lcl|Query_4358098_2708-8473_KY770858.1_Sarbecovirus_sp._isolate_Anlong-103', 'lcl|Query_4358068_2484-8249_KJ473816.1_BtRs-BetaCoV/YN2013', 'lcl|Query_4358134_2719-8484_KC881005.1_Bat_SARS-like_coronavirus_RsSHC014', 'lcl|Query_4358067_2723-8488_OQ503505.1_Severe_acute_respiratory_syndrome-related_coronavirus_isolate_162181', 'lcl|Query_4358088_2719-8484_MK211378.1_Coronavirus_BtRs-BetaCoV/YN2018D', 'lcl|Query_4358071_2717-8482_MK211377.1_Coronavirus_BtRs-BetaCoV/YN2018C', 'lcl|Query_4358173_2700-5894_FJ588686.1_Bat_SARS_CoV_Rs672/2006', 'lcl|Query_4358058_2720-8485_MZ081379.1_Betacoronavirus_sp._RsYN03_strain_bat/Yunnan/RsYN03/2019', 'lcl|Query_4358075_2720-8485_MK062183.1_SARS_coronavirus_Urbani_isolate_icSARS-C7', 'lcl|Query_4358074_2719-8484_MT308984.1_Mutant_SARS_coronavirus_Urbani_clone_SARS-Urbani-MA_SHC014-spike', 'lcl|Query_4358141_2718-8483_KP886808.1_Bat_SARS-like_coronavirus_YNLF_31C', 'lcl|Query_4358097_2615-8383_JX993988.1_Bat_coronavirus_Cp/Yunnan2011', 'lcl|Query_4358107_2720-8485_MZ081382.1_Betacoronavirus_sp._RsYN09_strain_bat/Yunnan/RsYN09/2020', 'lcl|Query_4358137_2726-8491_KF569996.1_Rhinolophus_affinis_coronavirus_isolate_LYRa11', 'lcl|Query_4358150_2723-8488_OQ503506.1_Severe_acute_respiratory_syndrome-related_coronavirus_isolate_B228', 'lcl|Query_4358157_2720-8485_MZ081377.1_Betacoronavirus_sp._RmYN07_strain_bat/Yunnan/RmYN07/2020', 'lcl|Query_4358123_2719-8487_OR261266.1_Rhinolophus_thomasi_bat_coronavirus_isolate_RtVN21-197', 'lcl|Query_4358115_2697-8456_OR233312.1_Horseshoe_bat_sarbecovirus_isolate_Rt22SL58', 'lcl|Query_4358113_2459-8227_OR261262.1_Rhinolophus_thomasi_bat_coronavirus_isolate_RtVN21-29', 'lcl|Query_4358136_2697-8462_OR261263.1_Rhinolophus_thomasi_bat_coronavirus_isolate_RtVN21-192', 'lcl|Query_4358138_2678-8431_OR233295.1_Horseshoe_bat_sarbecovirus_isolate_Rt17DN420', 'lcl|Query_4358081_2697-8432_OR233320.1_Horseshoe_bat_sarbecovirus_isolate_Rt22QT48', 'lcl|Query_4358066_2697-8432_OR233298.1_Horseshoe_bat_sarbecovirus_isolate_Rt22QB78', 'lcl|Query_4358069_2697-8432_OR233299.1_Horseshoe_bat_sarbecovirus_isolate_Rt22QB8', 'lcl|Query_4358160_2715-8447_MK211374.1_Coronavirus_BtRl-BetaCoV/SC2018', 'lcl|Query_4358139_2460-8207_OK017846.1_Sarbecovirus_sp._isolate_SC2018B', 'lcl|Query_4358165_2670-8420_KY770860.1_Sarbecovirus_sp._isolate_Jiyuan-84', 'lcl|Query_4358170_2718-8468_DQ648856.1_Bat_coronavirus_', 'lcl|Query_4358169_2715-8465_DQ412042.1_Bat_SARS_coronavirus_Rf1', 'lcl|Query_4358161_2485-8235_KJ473813.1_BtRf-BetaCoV/SX2013', 'lcl|Query_4358163_2581-8331_OK017799.1_Sarbecovirus_sp._isolate_LN2020G', 'lcl|Query_4358168_2701-8451_ON378802.1_MAG__Severe_acute_respiratory_syndrome-related_coronavirus_isolate_BatCoV_B20-50', 'lcl|Query_4358144_2645-8386_JX993987.1_Bat_coronavirus_Rp/Shaanxi2011', 'lcl|Query_4358125_2659-8415_KJ473814.1_BtRs-BetaCoV/HuB2013', 'lcl|Query_4358147_2695-8451_MZ328294.1_Jingmen_Rhinolophus_sinicus_betacoronavirus_1', 'lcl|Query_4358133_2584-8334_OK017860.1_Sarbecovirus_sp._isolate_JX2021D', 'lcl|Query_4358099_2581-8328_OK017832.1_Sarbecovirus_sp._isolate_HN2021C', 'lcl|Query_4358072_2581-8328_OK017836.1_Sarbecovirus_sp._isolate_JX2021AC', 'lcl|Query_4358063_2581-8337_OK017802.1_Sarbecovirus_sp._isolate_HB2020E', 'lcl|Query_4358059_2581-8340_OK017801.1_Sarbecovirus_sp._isolate_HB2020D', 'lcl|Query_4358062_2858-8617_OQ503498.1_Severe_acute_respiratory_syndrome-related_coronavirus_isolate_BDA190366', 'lcl|Query_4358117_2581-8337_OK017807.1_Sarbecovirus_sp._isolate_AH2021A', 'lcl|Query_4358095_2581-8340_OK017809.1_Sarbecovirus_sp._isolate_FJ2021D', 'lcl|Query_4358143_2581-8337_OK017811.1_Sarbecovirus_sp._isolate_FJ2021M', 'lcl|Query_4358166_2719-8478_PQ577578.1_Betacoronavirus_sp._isolate_HD13589', 'lcl|Query_4358159_2489-8248_PQ577590.1_Betacoronavirus_sp._isolate_201924', 'lcl|Query_4358162_2716-8475_GQ153542.1_Bat_SARS_coronavirus_HKU3-7', 'lcl|Query_4358171_2716-8463_GQ153547.1_Bat_SARS_coronavirus_HKU3-12', 'lcl|Query_4358172_2719-8466_MT782114.1_Mutant_Bat_SARS_coronavirus_HKU3_isolate_icHKU3-SRBD', 'lcl|Query_4358103_2581-8337_OK017837.1_Sarbecovirus_sp._isolate_JX2021C', 'lcl|Query_4358153_2581-8337_OK017808.1_Sarbecovirus_sp._isolate_FJ2021A', 'lcl|Query_4358126_2581-8337_OK017839.1_Sarbecovirus_sp._isolate_JX2021J', 'lcl|Query_4358100_2581-8337_OK017840.1_Sarbecovirus_sp._isolate_JX2021K', 'lcl|Query_4358101_2581-8337_OK017838.1_Sarbecovirus_sp._isolate_JX2021G', 'lcl|Query_4358155_2581-8337_OK017844.1_Sarbecovirus_sp._isolate_JX2021O', 'lcl|Query_4358148_2581-8337_OK017845.1_Sarbecovirus_sp._isolate_JX2021P', 'lcl|Query_4358124_2479-8238_OK017841.1_Sarbecovirus_sp._isolate_JX2021L', 'lcl|Query_4358087_2479-8238_OK017842.1_Sarbecovirus_sp._isolate_JX2021M', 'lcl|Query_4358109_2578-8337_OK017843.1_Sarbecovirus_sp._isolate_JX2021N', 'lcl|Query_4358118_2949-8705_MW681002.1_Severe_acute_respiratory_syndrome-related_coronavirus_isolate_Rs56', 'lcl|Query_4358122_2735-8491_PQ577588.1_Betacoronavirus_sp._isolate_B64', 'lcl|Query_4358140_2712-8471_PQ577583.1_Betacoronavirus_sp._isolate_CH007', 'lcl|Query_4358129_2701-8460_PQ577581.1_Betacoronavirus_sp._isolate_CH063', 'lcl|Query_4358167_2581-8340_OK017823.1_Sarbecovirus_sp._isolate_GD2017Q', 'lcl|Query_4358145_2581-8340_OK017824.1_Sarbecovirus_sp._isolate_GD2017W', 'lcl|Query_4358127_2581-8340_OK017828.1_Sarbecovirus_sp._isolate_GD2019E', 'lcl|Query_4358121_2581-8340_OK017827.1_Sarbecovirus_sp._isolate_GD2019D', 'lcl|Query_4358158_2581-8343_OK017825.1_Sarbecovirus_sp._isolate_GD2019A', 'lcl|Query_4358154_2718-8450_OQ503495.1_Severe_acute_respiratory_syndrome-related_coronavirus_isolate_141341', 'lcl|Query_4358164_2581-8340_OK017812.1_Sarbecovirus_sp._isolate_GD2016B', 'lcl|Query_4358128_2581-8340_OK017820.1_Sarbecovirus_sp._isolate_GD2017N', 'lcl|Query_4358149_2703-8462_OQ297703.1_MAG__Severe_acute_respiratory_syndrome-related_coronavirus_isolate_GD/L18.18/2020', 'lcl|Query_4358106_2768-8527_OQ297701.1_MAG__Severe_acute_respiratory_syndrome-related_coronavirus_isolate_GD/L19.18/2020', 'lcl|Query_4358142_2581-8340_OK017813.1_Sarbecovirus_sp._isolate_GD2017G', 'lcl|Query_4358152_2715-8498_DQ412043.1_Bat_SARS_coronavirus_Rm1', 'lcl|Query_4358156_2995-8733_OQ297705.1_MAG__Severe_acute_respiratory_syndrome-related_coronavirus_isolate_CQ/L80.18/2021', 'lcl|Query_4358092_2581-8328_OK017833.1_Sarbecovirus_sp._isolate_HN2021D', 'lcl|Query_4358096_2581-8328_OK017859.1_Sarbecovirus_sp._isolate_GX2019A', 'lcl|Query_4358083_2704-8460_OQ503497.1_Severe_acute_respiratory_syndrome-related_coronavirus_isolate_151491', 'lcl|Query_4358132_2581-8337_OK017835.1_Sarbecovirus_sp._isolate_HN2021F', 'lcl|Query_4358135_2581-8337_OK017834.1_Sarbecovirus_sp._isolate_HN2021E', 'lcl|Query_4358037_4901-8458_MN514967.1_Dromedary_camel_coronavirus_HKU23_isolate_DcCoV-HKU23/camel/Nigeria/NV1385/2016', 'lcl|Query_4358055_2704-8493_OL674078.1_Severe_acute_respiratory_syndrome-related_coronavirus_isolate_Rs7921', 'lcl|Query_4358056_2718-8507_MZ081376.1_Betacoronavirus_sp._RmYN05_strain_bat/Yunnan/RmYN05/2020', 'lcl|Query_4358048_2721-8531_MT040335.1_Pangolin_coronavirus_isolate_PCoV_GX-P5L', 'lcl|Query_4358043_2689-8502_OQ297708.1_MAG__Pangolin_coronavirus_isolate_GD/P79-9/2019', 'lcl|Query_4358047_2706-8525_OK287355.1_Sarbecovirus_sp._isolate_BetaCoV_Yunnan_Rp_JCC9_2020', 'lcl|Query_4358052_2571-8369_OK017805.1_Sarbecovirus_sp._isolate_HN2021G', 'lcl|Query_4358051_2577-8399_OK017803.1_Sarbecovirus_sp._isolate_HN2021A', 'lcl|Query_4358050_2719-8541_MG772933.1_Bat_SARS-like_coronavirus_isolate_bat-SL-CoVZC45', 'lcl|Query_4358053_2719-8475_MG772934.1_Bat_SARS-like_coronavirus_isolate_bat-SL-CoVZXC21', 'lcl|Query_4358042_2720-8554_HG994853.1_Severe_acute_respiratory_syndrome-related_coronavirus_isolate_H_SC_02_genome_assembly', 'lcl|Query_4358054_2720-8554_HG994860.1_Severe_acute_respiratory_syndrome-related_coronavirus_isolate_H_SC_11_genome_assembly', 'lcl|Query_4358184_2720-8554_NC_045512.2_Severe_acute_respiratory_syndrome_coronavirus_2_isolate_Wuhan-Hu-1', 'lcl|Query_4358041_2720-8554_HG994856.1_Severe_acute_respiratory_syndrome-related_coronavirus_isolate_H_SC_07_genome_assembly', 'lcl|Query_4358036_2720-8554_NC_045512.2_Severe_acute_respiratory_syndrome_coronavirus_2_isolate_Wuhan-Hu-1', 'lcl|Query_4358046_2577-8414_OK017806.1_Sarbecovirus_sp._isolate_YN2021', 'lcl|Query_4358039_2693-8524_OR233302.1_Horseshoe_bat_sarbecovirus_isolate_Rp22DB159', 'lcl|Query_4358040_2720-8551_MZ081381.1_Betacoronavirus_sp._RpYN06_strain_bat/Yunnan/RpYN06/2020', 'lcl|Query_4358045_2682-8513_MW703458.1_Sarbecovirus_sp._isolate_PrC31', 'lcl|Query_4358038_2720-8551_MN996532.2_Bat_coronavirus_RaTG13', 'lcl|Query_4358049_2762-8554_MW251308.1_Bat_coronavirus_RacCS203', 'lcl|Query_4358044_2698-8511_OR233322.1_Horseshoe_bat_sarbecovirus_isolate_Ra22QT106', 'lcl|Query_4358070_2707-8505_LC556375.1_Severe_acute_respiratory_syndrome-related_coronavirus_Rc-o319_RNA', 'lcl|Query_4358073_2712-8510_LC663793.1_Sarbecovirus_sp._Rc-kw8_RNA', 'lcl|Query_4358177_2662-8385_MZ190138.1_Bat_SARS-like_coronavirus_Khosta-2_strain_BtCoV/Khosta-2/Rh/Russia/2020', 'lcl|Query_4358178_2704-8424_OP776340.1_Sarbecovirus_sp._isolate_RhGB06', 'lcl|Query_4358180_2715-8435_OQ401248.1_MAG__Sarbecovirus_sp._RhGB07_isolate_2-30B', 'lcl|Query_4358181_2703-8423_OP776338.1_Sarbecovirus_sp._isolate_RhGB02', 'lcl|Query_4358182_2734-8454_MW719567.1_Sarbecovirus_RhGB01', 'lcl|Query_4358179_2702-8422_OP776339.1_Sarbecovirus_sp._isolate_RhGB05', 'lcl|Query_4358174_2645-8344_MZ190137.1_Bat_SARS-like_coronavirus_Khosta-1_strain_BtCoV/Khosta-1/Rh/Russia/2020', 'lcl|Query_4358185_2645-8380_NC_014470.1_Bat_coronavirus_BM48-31/BGR/2008', 'lcl|Query_4358175_2645-8380_NC_014470.1_Bat_coronavirus_BM48-31/BGR/2008', 'lcl|Query_4358183_2716-8409_MT726045.1_Sarbecovirus_sp._isolate_PREDICT/PRD-0038/AABSMF', 'lcl|Query_4358176_2714-8410_KY352407.1_Severe_acute_respiratory_syndrome-related_coronavirus_strain_BtKY72', 'lcl|Query_4358086_2581-8343_OK017829.1_Sarbecovirus_sp._isolate_GZ2021C', 'lcl|Query_4358104_2581-8343_OK017831.1_Sarbecovirus_sp._isolate_GZ2021I', 'lcl|Query_4358120_2526-8288_OK017830.1_Sarbecovirus_sp._isolate_GZ2021H', 'lcl|Query_4358111_2719-8478_DQ071615.1_Bat_SARS_coronavirus_Rp3', 'lcl|Query_4358093_2479-8238_KJ473815.1_BtRs-BetaCoV/GX2013', 'lcl|Query_4358116_2697-8462_OR233294.1_Horseshoe_bat_sarbecovirus_isolate_Rt22DB31', 'lcl|Query_4358119_2697-8462_OR233303.1_Horseshoe_bat_sarbecovirus_isolate_Rt22SL9', 'lcl|Query_4358057_2697-8447_OR233296.1_Horseshoe_bat_sarbecovirus_isolate_Rt22LC378', 'lcl|Query_4358094_2720-8470_OR261264.1_Rhinolophus_thomasi_bat_coronavirus_isolate_RtVN21-193', 'lcl|Query_4358102_2558-8320_OK017793.1_Sarbecovirus_sp._isolate_YN2020A', 'lcl|Query_4358090_2697-8447_OR233293.1_Horseshoe_bat_sarbecovirus_isolate_Rt22CB395', 'lcl|Query_4358060_2697-8462_OR233297.1_Horseshoe_bat_sarbecovirus_isolate_Rt21LC92', 'lcl|Query_4358061_2511-8279_OK017855.1_Sarbecovirus_sp._isolate_YN2020E', 'lcl|Query_4358110_2581-8334_OK017792.1_Sarbecovirus_sp._isolate_GD2017F', 'lcl|Query_4358130_2718-8483_OR233291.1_Horseshoe_bat_sarbecovirus_isolate_Ra21CB8', 'lcl|Query_4358065_2719-8484_KY417146.1_Bat_SARS-like_coronavirus_isolate_Rs4231', 'lcl|Query_4358078_2719-8484_KY417142.1_Bat_SARS-like_coronavirus_isolate_As6526']\n"
          ]
        }
      ]
    },
    {
      "cell_type": "code",
      "source": [
        "# Load the tree from the Newick file\n",
        "tree = Tree(\"/content/gclust/outputs/phylogenetic_tree.txt\")\n",
        "\n",
        "# Specify the outgroup (camel virus identifier)\n",
        "camel_virus_label = \"lcl|Query_4358037_4901-8458_MN514967.1_Dromedary_camel_coronavirus_HKU23_isolate_DcCoV-HKU23/camel/Nigeria/NV1385/2016\"\n",
        "\n",
        "# Set the camel virus as the root of the tree\n",
        "tree.set_outgroup(camel_virus_label)\n",
        "\n",
        "# Save the rooted tree back to a file\n",
        "tree.write(outfile=\"/content/gclust/outputs/rooted_phylogenetic_tree.txt\")\n"
      ],
      "metadata": {
        "id": "3bWHEbevmlfY"
      },
      "execution_count": null,
      "outputs": []
    },
    {
      "cell_type": "code",
      "source": [
        "import shutil\n",
        "shutil.make_archive('/content/outputs', 'zip', '/content/gclust/outputs')"
      ],
      "metadata": {
        "id": "HdUR-Z8KLdny",
        "outputId": "f3cc9bda-181c-41fc-bb26-542a9fd3e9e3",
        "colab": {
          "base_uri": "https://localhost:8080/",
          "height": 36
        }
      },
      "execution_count": 16,
      "outputs": [
        {
          "output_type": "execute_result",
          "data": {
            "text/plain": [
              "'/content/outputs.zip'"
            ],
            "application/vnd.google.colaboratory.intrinsic+json": {
              "type": "string"
            }
          },
          "metadata": {},
          "execution_count": 16
        }
      ]
    }
  ]
}